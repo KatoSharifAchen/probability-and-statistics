{
 "cells": [
  {
   "cell_type": "code",
   "execution_count": 1,
   "metadata": {},
   "outputs": [],
   "source": [
    "import numpy as np\n",
    "import pandas as pd"
   ]
  },
  {
   "cell_type": "code",
   "execution_count": 25,
   "metadata": {},
   "outputs": [],
   "source": [
    "data=[5,8,12,15,18,22,25,28,30]"
   ]
  },
  {
   "cell_type": "code",
   "execution_count": 26,
   "metadata": {},
   "outputs": [
    {
     "name": "stdout",
     "output_type": "stream",
     "text": [
      "Mean:18.11111111111111\n"
     ]
    }
   ],
   "source": [
    "#mean\n",
    "mean_value= np. mean(data)\n",
    "print(f\"Mean:{mean_value}\")"
   ]
  },
  {
   "cell_type": "code",
   "execution_count": 27,
   "metadata": {},
   "outputs": [
    {
     "name": "stdout",
     "output_type": "stream",
     "text": [
      "Median:18.0\n"
     ]
    }
   ],
   "source": [
    "#median\n",
    "median_value=np.median(data)\n",
    "print(f\"Median:{median_value}\")"
   ]
  },
  {
   "cell_type": "code",
   "execution_count": 12,
   "metadata": {},
   "outputs": [
    {
     "name": "stdout",
     "output_type": "stream",
     "text": [
      "Range:25\n"
     ]
    }
   ],
   "source": [
    "#range\n",
    "range_value=np.max(data)-np.min(data)\n",
    "print(f\"Range:{range_value}\")"
   ]
  },
  {
   "cell_type": "code",
   "execution_count": 29,
   "metadata": {},
   "outputs": [
    {
     "name": "stdout",
     "output_type": "stream",
     "text": [
      "mode:mode_value.tolist()if not mode_value.empty else No mode\n"
     ]
    }
   ],
   "source": [
    "#mode\n",
    "mode_value= pd.Series(data).mode()\n",
    "print(f\"mode:mode_value.tolist()if not mode_value.empty else No mode\")\n"
   ]
  },
  {
   "cell_type": "code",
   "execution_count": 14,
   "metadata": {},
   "outputs": [
    {
     "name": "stdout",
     "output_type": "stream",
     "text": [
      "Varience:77.86111111111111\n"
     ]
    }
   ],
   "source": [
    "#variance\n",
    "varience_value=np.var(data,ddof=1)\n",
    "print(f\"Varience:{varience_value}\")"
   ]
  },
  {
   "cell_type": "code",
   "execution_count": 30,
   "metadata": {},
   "outputs": [
    {
     "name": "stdout",
     "output_type": "stream",
     "text": [
      "Q1:12.0,Q3:23.799999999999997,IQR:11.799999999999997\n"
     ]
    }
   ],
   "source": [
    "#interquartile Range(IQR)\n",
    "Q1=np.percentile(data,25)\n",
    "Q3 =np.percentile(data,70)\n",
    "iqr=Q3-Q1\n",
    "print(f\"Q1:{Q1},Q3:{Q3},IQR:{iqr}\")"
   ]
  },
  {
   "cell_type": "code",
   "execution_count": 7,
   "metadata": {},
   "outputs": [],
   "source": [
    "import pandas as pd"
   ]
  },
  {
   "cell_type": "code",
   "execution_count": 8,
   "metadata": {},
   "outputs": [],
   "source": [
    "##expenses\n",
    "Expenses=[220,185,210,250,240,195,180,230,200,260,215,215]\n",
    "data = pd.Series(Expenses)"
   ]
  },
  {
   "cell_type": "code",
   "execution_count": 9,
   "metadata": {},
   "outputs": [
    {
     "data": {
      "text/plain": [
       "np.float64(216.66666666666666)"
      ]
     },
     "execution_count": 9,
     "metadata": {},
     "output_type": "execute_result"
    }
   ],
   "source": [
    "data.mean()"
   ]
  },
  {
   "cell_type": "code",
   "execution_count": null,
   "metadata": {},
   "outputs": [],
   "source": [
    "data.median()"
   ]
  },
  {
   "cell_type": "code",
   "execution_count": 16,
   "metadata": {},
   "outputs": [],
   "source": [
    "#mode\n",
    "if (len(Expenses)==len(data.mode())):\n",
    "    print(\"no mode\")"
   ]
  },
  {
   "cell_type": "code",
   "execution_count": 13,
   "metadata": {},
   "outputs": [
    {
     "data": {
      "text/plain": [
       "np.int64(80)"
      ]
     },
     "execution_count": 13,
     "metadata": {},
     "output_type": "execute_result"
    }
   ],
   "source": [
    "#range\n",
    "data.max()-data.min()"
   ]
  },
  {
   "cell_type": "code",
   "execution_count": 14,
   "metadata": {},
   "outputs": [
    {
     "data": {
      "text/plain": [
       "np.float64(624.2424242424241)"
      ]
     },
     "execution_count": 14,
     "metadata": {},
     "output_type": "execute_result"
    }
   ],
   "source": [
    "#variation\n",
    "data.var()"
   ]
  },
  {
   "cell_type": "code",
   "execution_count": 15,
   "metadata": {},
   "outputs": [
    {
     "data": {
      "text/plain": [
       "np.float64(24.984843890695497)"
      ]
     },
     "execution_count": 15,
     "metadata": {},
     "output_type": "execute_result"
    }
   ],
   "source": [
    "#standard deviation\n",
    "data.std()"
   ]
  },
  {
   "cell_type": "code",
   "execution_count": 19,
   "metadata": {},
   "outputs": [
    {
     "name": "stdout",
     "output_type": "stream",
     "text": [
      "Q1:198.75\n",
      "Q3:232.5\n",
      "IQR:33.75\n"
     ]
    }
   ],
   "source": [
    "#inter quantile range\n",
    "lower_quantile=data.quantile(0.25)\n",
    "upper_quantile=data.quantile(0.75)\n",
    "IQR=upper_quantile-lower_quantile\n",
    "print(f\"Q1:{lower_quantile}\\nQ3:{upper_quantile}\\nIQR:{IQR}\")"
   ]
  }
 ],
 "metadata": {
  "kernelspec": {
   "display_name": "Python 3",
   "language": "python",
   "name": "python3"
  },
  "language_info": {
   "codemirror_mode": {
    "name": "ipython",
    "version": 3
   },
   "file_extension": ".py",
   "mimetype": "text/x-python",
   "name": "python",
   "nbconvert_exporter": "python",
   "pygments_lexer": "ipython3",
   "version": "3.13.0"
  }
 },
 "nbformat": 4,
 "nbformat_minor": 2
}
